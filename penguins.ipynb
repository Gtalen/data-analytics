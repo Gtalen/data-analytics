{
 "cells": [
  {
   "cell_type": "markdown",
   "metadata": {},
   "source": [
    "***\n",
    "# Analysis of the penguins data set\n",
    "***\n"
   ]
  },
  {
   "cell_type": "markdown",
   "metadata": {},
   "source": [
    "#### \n",
    "The analysis was started off by importing the necessary libraries needded for data analysis, exploration, manipulation and visualization.\n",
    "Pandas was used for exploring the dataframe, Numpy - numerical arrays was utilized for data analysis while Matplotlib was used for plotting data in the form of barcharts, histogram and other plots."
   ]
  },
  {
   "cell_type": "markdown",
   "metadata": {},
   "source": [
    "### Libraries/Prerequisites"
   ]
  },
  {
   "cell_type": "code",
   "execution_count": 5,
   "metadata": {},
   "outputs": [
    {
     "name": "stdout",
     "output_type": "stream",
     "text": [
      "1.24.3\n"
     ]
    }
   ],
   "source": [
    "#importing the libraries \n",
    "import pandas as pd\n",
    "import matplotlib.pyplot as plt\n",
    "import numpy as np\n",
    "print (np.__version__)\n",
    "\n"
   ]
  },
  {
   "cell_type": "code",
   "execution_count": 6,
   "metadata": {},
   "outputs": [
    {
     "name": "stdout",
     "output_type": "stream",
     "text": [
      "       species     island  bill_length_mm  bill_depth_mm  flipper_length_mm  body_mass_g     sex\n",
      "0       Adelie  Torgersen            39.1           18.7              181.0       3750.0    MALE\n",
      "1       Adelie  Torgersen            39.5           17.4              186.0       3800.0  FEMALE\n",
      "2       Adelie  Torgersen            40.3           18.0              195.0       3250.0  FEMALE\n",
      "3       Adelie  Torgersen             NaN            NaN                NaN          NaN     NaN\n",
      "4       Adelie  Torgersen            36.7           19.3              193.0       3450.0  FEMALE\n",
      "5       Adelie  Torgersen            39.3           20.6              190.0       3650.0    MALE\n",
      "6       Adelie  Torgersen            38.9           17.8              181.0       3625.0  FEMALE\n",
      "7       Adelie  Torgersen            39.2           19.6              195.0       4675.0    MALE\n",
      "8       Adelie  Torgersen            34.1           18.1              193.0       3475.0     NaN\n",
      "9       Adelie  Torgersen            42.0           20.2              190.0       4250.0     NaN\n",
      "10      Adelie  Torgersen            37.8           17.1              186.0       3300.0     NaN\n",
      "11      Adelie  Torgersen            37.8           17.3              180.0       3700.0     NaN\n",
      "12      Adelie  Torgersen            41.1           17.6              182.0       3200.0  FEMALE\n",
      "13      Adelie  Torgersen            38.6           21.2              191.0       3800.0    MALE\n",
      "14      Adelie  Torgersen            34.6           21.1              198.0       4400.0    MALE\n",
      "15      Adelie  Torgersen            36.6           17.8              185.0       3700.0  FEMALE\n",
      "16      Adelie  Torgersen            38.7           19.0              195.0       3450.0  FEMALE\n",
      "17      Adelie  Torgersen            42.5           20.7              197.0       4500.0    MALE\n",
      "18      Adelie  Torgersen            34.4           18.4              184.0       3325.0  FEMALE\n",
      "19      Adelie  Torgersen            46.0           21.5              194.0       4200.0    MALE\n",
      "20      Adelie     Biscoe            37.8           18.3              174.0       3400.0  FEMALE\n",
      "21      Adelie     Biscoe            37.7           18.7              180.0       3600.0    MALE\n",
      "22      Adelie     Biscoe            35.9           19.2              189.0       3800.0  FEMALE\n",
      "23      Adelie     Biscoe            38.2           18.1              185.0       3950.0    MALE\n",
      "24      Adelie     Biscoe            38.8           17.2              180.0       3800.0    MALE\n",
      "25      Adelie     Biscoe            35.3           18.9              187.0       3800.0  FEMALE\n",
      "26      Adelie     Biscoe            40.6           18.6              183.0       3550.0    MALE\n",
      "27      Adelie     Biscoe            40.5           17.9              187.0       3200.0  FEMALE\n",
      "28      Adelie     Biscoe            37.9           18.6              172.0       3150.0  FEMALE\n",
      "29      Adelie     Biscoe            40.5           18.9              180.0       3950.0    MALE\n",
      "30      Adelie      Dream            39.5           16.7              178.0       3250.0  FEMALE\n",
      "31      Adelie      Dream            37.2           18.1              178.0       3900.0    MALE\n",
      "32      Adelie      Dream            39.5           17.8              188.0       3300.0  FEMALE\n",
      "33      Adelie      Dream            40.9           18.9              184.0       3900.0    MALE\n",
      "34      Adelie      Dream            36.4           17.0              195.0       3325.0  FEMALE\n",
      "35      Adelie      Dream            39.2           21.1              196.0       4150.0    MALE\n",
      "36      Adelie      Dream            38.8           20.0              190.0       3950.0    MALE\n",
      "37      Adelie      Dream            42.2           18.5              180.0       3550.0  FEMALE\n",
      "38      Adelie      Dream            37.6           19.3              181.0       3300.0  FEMALE\n",
      "39      Adelie      Dream            39.8           19.1              184.0       4650.0    MALE\n",
      "40      Adelie      Dream            36.5           18.0              182.0       3150.0  FEMALE\n",
      "41      Adelie      Dream            40.8           18.4              195.0       3900.0    MALE\n",
      "42      Adelie      Dream            36.0           18.5              186.0       3100.0  FEMALE\n",
      "43      Adelie      Dream            44.1           19.7              196.0       4400.0    MALE\n",
      "44      Adelie      Dream            37.0           16.9              185.0       3000.0  FEMALE\n",
      "45      Adelie      Dream            39.6           18.8              190.0       4600.0    MALE\n",
      "46      Adelie      Dream            41.1           19.0              182.0       3425.0    MALE\n",
      "47      Adelie      Dream            37.5           18.9              179.0       2975.0     NaN\n",
      "48      Adelie      Dream            36.0           17.9              190.0       3450.0  FEMALE\n",
      "49      Adelie      Dream            42.3           21.2              191.0       4150.0    MALE\n",
      "50      Adelie     Biscoe            39.6           17.7              186.0       3500.0  FEMALE\n",
      "51      Adelie     Biscoe            40.1           18.9              188.0       4300.0    MALE\n",
      "52      Adelie     Biscoe            35.0           17.9              190.0       3450.0  FEMALE\n",
      "53      Adelie     Biscoe            42.0           19.5              200.0       4050.0    MALE\n",
      "54      Adelie     Biscoe            34.5           18.1              187.0       2900.0  FEMALE\n",
      "55      Adelie     Biscoe            41.4           18.6              191.0       3700.0    MALE\n",
      "56      Adelie     Biscoe            39.0           17.5              186.0       3550.0  FEMALE\n",
      "57      Adelie     Biscoe            40.6           18.8              193.0       3800.0    MALE\n",
      "58      Adelie     Biscoe            36.5           16.6              181.0       2850.0  FEMALE\n",
      "59      Adelie     Biscoe            37.6           19.1              194.0       3750.0    MALE\n",
      "60      Adelie     Biscoe            35.7           16.9              185.0       3150.0  FEMALE\n",
      "61      Adelie     Biscoe            41.3           21.1              195.0       4400.0    MALE\n",
      "62      Adelie     Biscoe            37.6           17.0              185.0       3600.0  FEMALE\n",
      "63      Adelie     Biscoe            41.1           18.2              192.0       4050.0    MALE\n",
      "64      Adelie     Biscoe            36.4           17.1              184.0       2850.0  FEMALE\n",
      "65      Adelie     Biscoe            41.6           18.0              192.0       3950.0    MALE\n",
      "66      Adelie     Biscoe            35.5           16.2              195.0       3350.0  FEMALE\n",
      "67      Adelie     Biscoe            41.1           19.1              188.0       4100.0    MALE\n",
      "68      Adelie  Torgersen            35.9           16.6              190.0       3050.0  FEMALE\n",
      "69      Adelie  Torgersen            41.8           19.4              198.0       4450.0    MALE\n",
      "70      Adelie  Torgersen            33.5           19.0              190.0       3600.0  FEMALE\n",
      "71      Adelie  Torgersen            39.7           18.4              190.0       3900.0    MALE\n",
      "72      Adelie  Torgersen            39.6           17.2              196.0       3550.0  FEMALE\n",
      "73      Adelie  Torgersen            45.8           18.9              197.0       4150.0    MALE\n",
      "74      Adelie  Torgersen            35.5           17.5              190.0       3700.0  FEMALE\n",
      "75      Adelie  Torgersen            42.8           18.5              195.0       4250.0    MALE\n",
      "76      Adelie  Torgersen            40.9           16.8              191.0       3700.0  FEMALE\n",
      "77      Adelie  Torgersen            37.2           19.4              184.0       3900.0    MALE\n",
      "78      Adelie  Torgersen            36.2           16.1              187.0       3550.0  FEMALE\n",
      "79      Adelie  Torgersen            42.1           19.1              195.0       4000.0    MALE\n",
      "80      Adelie  Torgersen            34.6           17.2              189.0       3200.0  FEMALE\n",
      "81      Adelie  Torgersen            42.9           17.6              196.0       4700.0    MALE\n",
      "82      Adelie  Torgersen            36.7           18.8              187.0       3800.0  FEMALE\n",
      "83      Adelie  Torgersen            35.1           19.4              193.0       4200.0    MALE\n",
      "84      Adelie      Dream            37.3           17.8              191.0       3350.0  FEMALE\n",
      "85      Adelie      Dream            41.3           20.3              194.0       3550.0    MALE\n",
      "86      Adelie      Dream            36.3           19.5              190.0       3800.0    MALE\n",
      "87      Adelie      Dream            36.9           18.6              189.0       3500.0  FEMALE\n",
      "88      Adelie      Dream            38.3           19.2              189.0       3950.0    MALE\n",
      "89      Adelie      Dream            38.9           18.8              190.0       3600.0  FEMALE\n",
      "90      Adelie      Dream            35.7           18.0              202.0       3550.0  FEMALE\n",
      "91      Adelie      Dream            41.1           18.1              205.0       4300.0    MALE\n",
      "92      Adelie      Dream            34.0           17.1              185.0       3400.0  FEMALE\n",
      "93      Adelie      Dream            39.6           18.1              186.0       4450.0    MALE\n",
      "94      Adelie      Dream            36.2           17.3              187.0       3300.0  FEMALE\n",
      "95      Adelie      Dream            40.8           18.9              208.0       4300.0    MALE\n",
      "96      Adelie      Dream            38.1           18.6              190.0       3700.0  FEMALE\n",
      "97      Adelie      Dream            40.3           18.5              196.0       4350.0    MALE\n",
      "98      Adelie      Dream            33.1           16.1              178.0       2900.0  FEMALE\n",
      "99      Adelie      Dream            43.2           18.5              192.0       4100.0    MALE\n",
      "100     Adelie     Biscoe            35.0           17.9              192.0       3725.0  FEMALE\n",
      "101     Adelie     Biscoe            41.0           20.0              203.0       4725.0    MALE\n",
      "102     Adelie     Biscoe            37.7           16.0              183.0       3075.0  FEMALE\n",
      "103     Adelie     Biscoe            37.8           20.0              190.0       4250.0    MALE\n",
      "104     Adelie     Biscoe            37.9           18.6              193.0       2925.0  FEMALE\n",
      "105     Adelie     Biscoe            39.7           18.9              184.0       3550.0    MALE\n",
      "106     Adelie     Biscoe            38.6           17.2              199.0       3750.0  FEMALE\n",
      "107     Adelie     Biscoe            38.2           20.0              190.0       3900.0    MALE\n",
      "108     Adelie     Biscoe            38.1           17.0              181.0       3175.0  FEMALE\n",
      "109     Adelie     Biscoe            43.2           19.0              197.0       4775.0    MALE\n",
      "110     Adelie     Biscoe            38.1           16.5              198.0       3825.0  FEMALE\n",
      "111     Adelie     Biscoe            45.6           20.3              191.0       4600.0    MALE\n",
      "112     Adelie     Biscoe            39.7           17.7              193.0       3200.0  FEMALE\n",
      "113     Adelie     Biscoe            42.2           19.5              197.0       4275.0    MALE\n",
      "114     Adelie     Biscoe            39.6           20.7              191.0       3900.0  FEMALE\n",
      "115     Adelie     Biscoe            42.7           18.3              196.0       4075.0    MALE\n",
      "116     Adelie  Torgersen            38.6           17.0              188.0       2900.0  FEMALE\n",
      "117     Adelie  Torgersen            37.3           20.5              199.0       3775.0    MALE\n",
      "118     Adelie  Torgersen            35.7           17.0              189.0       3350.0  FEMALE\n",
      "119     Adelie  Torgersen            41.1           18.6              189.0       3325.0    MALE\n",
      "120     Adelie  Torgersen            36.2           17.2              187.0       3150.0  FEMALE\n",
      "121     Adelie  Torgersen            37.7           19.8              198.0       3500.0    MALE\n",
      "122     Adelie  Torgersen            40.2           17.0              176.0       3450.0  FEMALE\n",
      "123     Adelie  Torgersen            41.4           18.5              202.0       3875.0    MALE\n",
      "124     Adelie  Torgersen            35.2           15.9              186.0       3050.0  FEMALE\n",
      "125     Adelie  Torgersen            40.6           19.0              199.0       4000.0    MALE\n",
      "126     Adelie  Torgersen            38.8           17.6              191.0       3275.0  FEMALE\n",
      "127     Adelie  Torgersen            41.5           18.3              195.0       4300.0    MALE\n",
      "128     Adelie  Torgersen            39.0           17.1              191.0       3050.0  FEMALE\n",
      "129     Adelie  Torgersen            44.1           18.0              210.0       4000.0    MALE\n",
      "130     Adelie  Torgersen            38.5           17.9              190.0       3325.0  FEMALE\n",
      "131     Adelie  Torgersen            43.1           19.2              197.0       3500.0    MALE\n",
      "132     Adelie      Dream            36.8           18.5              193.0       3500.0  FEMALE\n",
      "133     Adelie      Dream            37.5           18.5              199.0       4475.0    MALE\n",
      "134     Adelie      Dream            38.1           17.6              187.0       3425.0  FEMALE\n",
      "135     Adelie      Dream            41.1           17.5              190.0       3900.0    MALE\n",
      "136     Adelie      Dream            35.6           17.5              191.0       3175.0  FEMALE\n",
      "137     Adelie      Dream            40.2           20.1              200.0       3975.0    MALE\n",
      "138     Adelie      Dream            37.0           16.5              185.0       3400.0  FEMALE\n",
      "139     Adelie      Dream            39.7           17.9              193.0       4250.0    MALE\n",
      "140     Adelie      Dream            40.2           17.1              193.0       3400.0  FEMALE\n",
      "141     Adelie      Dream            40.6           17.2              187.0       3475.0    MALE\n",
      "142     Adelie      Dream            32.1           15.5              188.0       3050.0  FEMALE\n",
      "143     Adelie      Dream            40.7           17.0              190.0       3725.0    MALE\n",
      "144     Adelie      Dream            37.3           16.8              192.0       3000.0  FEMALE\n",
      "145     Adelie      Dream            39.0           18.7              185.0       3650.0    MALE\n",
      "146     Adelie      Dream            39.2           18.6              190.0       4250.0    MALE\n",
      "147     Adelie      Dream            36.6           18.4              184.0       3475.0  FEMALE\n",
      "148     Adelie      Dream            36.0           17.8              195.0       3450.0  FEMALE\n",
      "149     Adelie      Dream            37.8           18.1              193.0       3750.0    MALE\n",
      "150     Adelie      Dream            36.0           17.1              187.0       3700.0  FEMALE\n",
      "151     Adelie      Dream            41.5           18.5              201.0       4000.0    MALE\n",
      "152  Chinstrap      Dream            46.5           17.9              192.0       3500.0  FEMALE\n",
      "153  Chinstrap      Dream            50.0           19.5              196.0       3900.0    MALE\n",
      "154  Chinstrap      Dream            51.3           19.2              193.0       3650.0    MALE\n",
      "155  Chinstrap      Dream            45.4           18.7              188.0       3525.0  FEMALE\n",
      "156  Chinstrap      Dream            52.7           19.8              197.0       3725.0    MALE\n",
      "157  Chinstrap      Dream            45.2           17.8              198.0       3950.0  FEMALE\n",
      "158  Chinstrap      Dream            46.1           18.2              178.0       3250.0  FEMALE\n",
      "159  Chinstrap      Dream            51.3           18.2              197.0       3750.0    MALE\n",
      "160  Chinstrap      Dream            46.0           18.9              195.0       4150.0  FEMALE\n",
      "161  Chinstrap      Dream            51.3           19.9              198.0       3700.0    MALE\n",
      "162  Chinstrap      Dream            46.6           17.8              193.0       3800.0  FEMALE\n",
      "163  Chinstrap      Dream            51.7           20.3              194.0       3775.0    MALE\n",
      "164  Chinstrap      Dream            47.0           17.3              185.0       3700.0  FEMALE\n",
      "165  Chinstrap      Dream            52.0           18.1              201.0       4050.0    MALE\n",
      "166  Chinstrap      Dream            45.9           17.1              190.0       3575.0  FEMALE\n",
      "167  Chinstrap      Dream            50.5           19.6              201.0       4050.0    MALE\n",
      "168  Chinstrap      Dream            50.3           20.0              197.0       3300.0    MALE\n",
      "169  Chinstrap      Dream            58.0           17.8              181.0       3700.0  FEMALE\n",
      "170  Chinstrap      Dream            46.4           18.6              190.0       3450.0  FEMALE\n",
      "171  Chinstrap      Dream            49.2           18.2              195.0       4400.0    MALE\n",
      "172  Chinstrap      Dream            42.4           17.3              181.0       3600.0  FEMALE\n",
      "173  Chinstrap      Dream            48.5           17.5              191.0       3400.0    MALE\n",
      "174  Chinstrap      Dream            43.2           16.6              187.0       2900.0  FEMALE\n",
      "175  Chinstrap      Dream            50.6           19.4              193.0       3800.0    MALE\n",
      "176  Chinstrap      Dream            46.7           17.9              195.0       3300.0  FEMALE\n",
      "177  Chinstrap      Dream            52.0           19.0              197.0       4150.0    MALE\n",
      "178  Chinstrap      Dream            50.5           18.4              200.0       3400.0  FEMALE\n",
      "179  Chinstrap      Dream            49.5           19.0              200.0       3800.0    MALE\n",
      "180  Chinstrap      Dream            46.4           17.8              191.0       3700.0  FEMALE\n",
      "181  Chinstrap      Dream            52.8           20.0              205.0       4550.0    MALE\n",
      "182  Chinstrap      Dream            40.9           16.6              187.0       3200.0  FEMALE\n",
      "183  Chinstrap      Dream            54.2           20.8              201.0       4300.0    MALE\n",
      "184  Chinstrap      Dream            42.5           16.7              187.0       3350.0  FEMALE\n",
      "185  Chinstrap      Dream            51.0           18.8              203.0       4100.0    MALE\n",
      "186  Chinstrap      Dream            49.7           18.6              195.0       3600.0    MALE\n",
      "187  Chinstrap      Dream            47.5           16.8              199.0       3900.0  FEMALE\n",
      "188  Chinstrap      Dream            47.6           18.3              195.0       3850.0  FEMALE\n",
      "189  Chinstrap      Dream            52.0           20.7              210.0       4800.0    MALE\n",
      "190  Chinstrap      Dream            46.9           16.6              192.0       2700.0  FEMALE\n",
      "191  Chinstrap      Dream            53.5           19.9              205.0       4500.0    MALE\n",
      "192  Chinstrap      Dream            49.0           19.5              210.0       3950.0    MALE\n",
      "193  Chinstrap      Dream            46.2           17.5              187.0       3650.0  FEMALE\n",
      "194  Chinstrap      Dream            50.9           19.1              196.0       3550.0    MALE\n",
      "195  Chinstrap      Dream            45.5           17.0              196.0       3500.0  FEMALE\n",
      "196  Chinstrap      Dream            50.9           17.9              196.0       3675.0  FEMALE\n",
      "197  Chinstrap      Dream            50.8           18.5              201.0       4450.0    MALE\n",
      "198  Chinstrap      Dream            50.1           17.9              190.0       3400.0  FEMALE\n",
      "199  Chinstrap      Dream            49.0           19.6              212.0       4300.0    MALE\n",
      "200  Chinstrap      Dream            51.5           18.7              187.0       3250.0    MALE\n",
      "201  Chinstrap      Dream            49.8           17.3              198.0       3675.0  FEMALE\n",
      "202  Chinstrap      Dream            48.1           16.4              199.0       3325.0  FEMALE\n",
      "203  Chinstrap      Dream            51.4           19.0              201.0       3950.0    MALE\n",
      "204  Chinstrap      Dream            45.7           17.3              193.0       3600.0  FEMALE\n",
      "205  Chinstrap      Dream            50.7           19.7              203.0       4050.0    MALE\n",
      "206  Chinstrap      Dream            42.5           17.3              187.0       3350.0  FEMALE\n",
      "207  Chinstrap      Dream            52.2           18.8              197.0       3450.0    MALE\n",
      "208  Chinstrap      Dream            45.2           16.6              191.0       3250.0  FEMALE\n",
      "209  Chinstrap      Dream            49.3           19.9              203.0       4050.0    MALE\n",
      "210  Chinstrap      Dream            50.2           18.8              202.0       3800.0    MALE\n",
      "211  Chinstrap      Dream            45.6           19.4              194.0       3525.0  FEMALE\n",
      "212  Chinstrap      Dream            51.9           19.5              206.0       3950.0    MALE\n",
      "213  Chinstrap      Dream            46.8           16.5              189.0       3650.0  FEMALE\n",
      "214  Chinstrap      Dream            45.7           17.0              195.0       3650.0  FEMALE\n",
      "215  Chinstrap      Dream            55.8           19.8              207.0       4000.0    MALE\n",
      "216  Chinstrap      Dream            43.5           18.1              202.0       3400.0  FEMALE\n",
      "217  Chinstrap      Dream            49.6           18.2              193.0       3775.0    MALE\n",
      "218  Chinstrap      Dream            50.8           19.0              210.0       4100.0    MALE\n",
      "219  Chinstrap      Dream            50.2           18.7              198.0       3775.0  FEMALE\n",
      "220     Gentoo     Biscoe            46.1           13.2              211.0       4500.0  FEMALE\n",
      "221     Gentoo     Biscoe            50.0           16.3              230.0       5700.0    MALE\n",
      "222     Gentoo     Biscoe            48.7           14.1              210.0       4450.0  FEMALE\n",
      "223     Gentoo     Biscoe            50.0           15.2              218.0       5700.0    MALE\n",
      "224     Gentoo     Biscoe            47.6           14.5              215.0       5400.0    MALE\n",
      "225     Gentoo     Biscoe            46.5           13.5              210.0       4550.0  FEMALE\n",
      "226     Gentoo     Biscoe            45.4           14.6              211.0       4800.0  FEMALE\n",
      "227     Gentoo     Biscoe            46.7           15.3              219.0       5200.0    MALE\n",
      "228     Gentoo     Biscoe            43.3           13.4              209.0       4400.0  FEMALE\n",
      "229     Gentoo     Biscoe            46.8           15.4              215.0       5150.0    MALE\n",
      "230     Gentoo     Biscoe            40.9           13.7              214.0       4650.0  FEMALE\n",
      "231     Gentoo     Biscoe            49.0           16.1              216.0       5550.0    MALE\n",
      "232     Gentoo     Biscoe            45.5           13.7              214.0       4650.0  FEMALE\n",
      "233     Gentoo     Biscoe            48.4           14.6              213.0       5850.0    MALE\n",
      "234     Gentoo     Biscoe            45.8           14.6              210.0       4200.0  FEMALE\n",
      "235     Gentoo     Biscoe            49.3           15.7              217.0       5850.0    MALE\n",
      "236     Gentoo     Biscoe            42.0           13.5              210.0       4150.0  FEMALE\n",
      "237     Gentoo     Biscoe            49.2           15.2              221.0       6300.0    MALE\n",
      "238     Gentoo     Biscoe            46.2           14.5              209.0       4800.0  FEMALE\n",
      "239     Gentoo     Biscoe            48.7           15.1              222.0       5350.0    MALE\n",
      "240     Gentoo     Biscoe            50.2           14.3              218.0       5700.0    MALE\n",
      "241     Gentoo     Biscoe            45.1           14.5              215.0       5000.0  FEMALE\n",
      "242     Gentoo     Biscoe            46.5           14.5              213.0       4400.0  FEMALE\n",
      "243     Gentoo     Biscoe            46.3           15.8              215.0       5050.0    MALE\n",
      "244     Gentoo     Biscoe            42.9           13.1              215.0       5000.0  FEMALE\n",
      "245     Gentoo     Biscoe            46.1           15.1              215.0       5100.0    MALE\n",
      "246     Gentoo     Biscoe            44.5           14.3              216.0       4100.0     NaN\n",
      "247     Gentoo     Biscoe            47.8           15.0              215.0       5650.0    MALE\n",
      "248     Gentoo     Biscoe            48.2           14.3              210.0       4600.0  FEMALE\n",
      "249     Gentoo     Biscoe            50.0           15.3              220.0       5550.0    MALE\n",
      "250     Gentoo     Biscoe            47.3           15.3              222.0       5250.0    MALE\n",
      "251     Gentoo     Biscoe            42.8           14.2              209.0       4700.0  FEMALE\n",
      "252     Gentoo     Biscoe            45.1           14.5              207.0       5050.0  FEMALE\n",
      "253     Gentoo     Biscoe            59.6           17.0              230.0       6050.0    MALE\n",
      "254     Gentoo     Biscoe            49.1           14.8              220.0       5150.0  FEMALE\n",
      "255     Gentoo     Biscoe            48.4           16.3              220.0       5400.0    MALE\n",
      "256     Gentoo     Biscoe            42.6           13.7              213.0       4950.0  FEMALE\n",
      "257     Gentoo     Biscoe            44.4           17.3              219.0       5250.0    MALE\n",
      "258     Gentoo     Biscoe            44.0           13.6              208.0       4350.0  FEMALE\n",
      "259     Gentoo     Biscoe            48.7           15.7              208.0       5350.0    MALE\n",
      "260     Gentoo     Biscoe            42.7           13.7              208.0       3950.0  FEMALE\n",
      "261     Gentoo     Biscoe            49.6           16.0              225.0       5700.0    MALE\n",
      "262     Gentoo     Biscoe            45.3           13.7              210.0       4300.0  FEMALE\n",
      "263     Gentoo     Biscoe            49.6           15.0              216.0       4750.0    MALE\n",
      "264     Gentoo     Biscoe            50.5           15.9              222.0       5550.0    MALE\n",
      "265     Gentoo     Biscoe            43.6           13.9              217.0       4900.0  FEMALE\n",
      "266     Gentoo     Biscoe            45.5           13.9              210.0       4200.0  FEMALE\n",
      "267     Gentoo     Biscoe            50.5           15.9              225.0       5400.0    MALE\n",
      "268     Gentoo     Biscoe            44.9           13.3              213.0       5100.0  FEMALE\n",
      "269     Gentoo     Biscoe            45.2           15.8              215.0       5300.0    MALE\n",
      "270     Gentoo     Biscoe            46.6           14.2              210.0       4850.0  FEMALE\n",
      "271     Gentoo     Biscoe            48.5           14.1              220.0       5300.0    MALE\n",
      "272     Gentoo     Biscoe            45.1           14.4              210.0       4400.0  FEMALE\n",
      "273     Gentoo     Biscoe            50.1           15.0              225.0       5000.0    MALE\n",
      "274     Gentoo     Biscoe            46.5           14.4              217.0       4900.0  FEMALE\n",
      "275     Gentoo     Biscoe            45.0           15.4              220.0       5050.0    MALE\n",
      "276     Gentoo     Biscoe            43.8           13.9              208.0       4300.0  FEMALE\n",
      "277     Gentoo     Biscoe            45.5           15.0              220.0       5000.0    MALE\n",
      "278     Gentoo     Biscoe            43.2           14.5              208.0       4450.0  FEMALE\n",
      "279     Gentoo     Biscoe            50.4           15.3              224.0       5550.0    MALE\n",
      "280     Gentoo     Biscoe            45.3           13.8              208.0       4200.0  FEMALE\n",
      "281     Gentoo     Biscoe            46.2           14.9              221.0       5300.0    MALE\n",
      "282     Gentoo     Biscoe            45.7           13.9              214.0       4400.0  FEMALE\n",
      "283     Gentoo     Biscoe            54.3           15.7              231.0       5650.0    MALE\n",
      "284     Gentoo     Biscoe            45.8           14.2              219.0       4700.0  FEMALE\n",
      "285     Gentoo     Biscoe            49.8           16.8              230.0       5700.0    MALE\n",
      "286     Gentoo     Biscoe            46.2           14.4              214.0       4650.0     NaN\n",
      "287     Gentoo     Biscoe            49.5           16.2              229.0       5800.0    MALE\n",
      "288     Gentoo     Biscoe            43.5           14.2              220.0       4700.0  FEMALE\n",
      "289     Gentoo     Biscoe            50.7           15.0              223.0       5550.0    MALE\n",
      "290     Gentoo     Biscoe            47.7           15.0              216.0       4750.0  FEMALE\n",
      "291     Gentoo     Biscoe            46.4           15.6              221.0       5000.0    MALE\n",
      "292     Gentoo     Biscoe            48.2           15.6              221.0       5100.0    MALE\n",
      "293     Gentoo     Biscoe            46.5           14.8              217.0       5200.0  FEMALE\n",
      "294     Gentoo     Biscoe            46.4           15.0              216.0       4700.0  FEMALE\n",
      "295     Gentoo     Biscoe            48.6           16.0              230.0       5800.0    MALE\n",
      "296     Gentoo     Biscoe            47.5           14.2              209.0       4600.0  FEMALE\n",
      "297     Gentoo     Biscoe            51.1           16.3              220.0       6000.0    MALE\n",
      "298     Gentoo     Biscoe            45.2           13.8              215.0       4750.0  FEMALE\n",
      "299     Gentoo     Biscoe            45.2           16.4              223.0       5950.0    MALE\n",
      "300     Gentoo     Biscoe            49.1           14.5              212.0       4625.0  FEMALE\n",
      "301     Gentoo     Biscoe            52.5           15.6              221.0       5450.0    MALE\n",
      "302     Gentoo     Biscoe            47.4           14.6              212.0       4725.0  FEMALE\n",
      "303     Gentoo     Biscoe            50.0           15.9              224.0       5350.0    MALE\n",
      "304     Gentoo     Biscoe            44.9           13.8              212.0       4750.0  FEMALE\n",
      "305     Gentoo     Biscoe            50.8           17.3              228.0       5600.0    MALE\n",
      "306     Gentoo     Biscoe            43.4           14.4              218.0       4600.0  FEMALE\n",
      "307     Gentoo     Biscoe            51.3           14.2              218.0       5300.0    MALE\n",
      "308     Gentoo     Biscoe            47.5           14.0              212.0       4875.0  FEMALE\n",
      "309     Gentoo     Biscoe            52.1           17.0              230.0       5550.0    MALE\n",
      "310     Gentoo     Biscoe            47.5           15.0              218.0       4950.0  FEMALE\n",
      "311     Gentoo     Biscoe            52.2           17.1              228.0       5400.0    MALE\n",
      "312     Gentoo     Biscoe            45.5           14.5              212.0       4750.0  FEMALE\n",
      "313     Gentoo     Biscoe            49.5           16.1              224.0       5650.0    MALE\n",
      "314     Gentoo     Biscoe            44.5           14.7              214.0       4850.0  FEMALE\n",
      "315     Gentoo     Biscoe            50.8           15.7              226.0       5200.0    MALE\n",
      "316     Gentoo     Biscoe            49.4           15.8              216.0       4925.0    MALE\n",
      "317     Gentoo     Biscoe            46.9           14.6              222.0       4875.0  FEMALE\n",
      "318     Gentoo     Biscoe            48.4           14.4              203.0       4625.0  FEMALE\n",
      "319     Gentoo     Biscoe            51.1           16.5              225.0       5250.0    MALE\n",
      "320     Gentoo     Biscoe            48.5           15.0              219.0       4850.0  FEMALE\n",
      "321     Gentoo     Biscoe            55.9           17.0              228.0       5600.0    MALE\n",
      "322     Gentoo     Biscoe            47.2           15.5              215.0       4975.0  FEMALE\n",
      "323     Gentoo     Biscoe            49.1           15.0              228.0       5500.0    MALE\n",
      "324     Gentoo     Biscoe            47.3           13.8              216.0       4725.0     NaN\n",
      "325     Gentoo     Biscoe            46.8           16.1              215.0       5500.0    MALE\n",
      "326     Gentoo     Biscoe            41.7           14.7              210.0       4700.0  FEMALE\n",
      "327     Gentoo     Biscoe            53.4           15.8              219.0       5500.0    MALE\n",
      "328     Gentoo     Biscoe            43.3           14.0              208.0       4575.0  FEMALE\n",
      "329     Gentoo     Biscoe            48.1           15.1              209.0       5500.0    MALE\n",
      "330     Gentoo     Biscoe            50.5           15.2              216.0       5000.0  FEMALE\n",
      "331     Gentoo     Biscoe            49.8           15.9              229.0       5950.0    MALE\n",
      "332     Gentoo     Biscoe            43.5           15.2              213.0       4650.0  FEMALE\n",
      "333     Gentoo     Biscoe            51.5           16.3              230.0       5500.0    MALE\n",
      "334     Gentoo     Biscoe            46.2           14.1              217.0       4375.0  FEMALE\n",
      "335     Gentoo     Biscoe            55.1           16.0              230.0       5850.0    MALE\n",
      "336     Gentoo     Biscoe            44.5           15.7              217.0       4875.0     NaN\n",
      "337     Gentoo     Biscoe            48.8           16.2              222.0       6000.0    MALE\n",
      "338     Gentoo     Biscoe            47.2           13.7              214.0       4925.0  FEMALE\n",
      "339     Gentoo     Biscoe             NaN            NaN                NaN          NaN     NaN\n",
      "340     Gentoo     Biscoe            46.8           14.3              215.0       4850.0  FEMALE\n",
      "341     Gentoo     Biscoe            50.4           15.7              222.0       5750.0    MALE\n",
      "342     Gentoo     Biscoe            45.2           14.8              212.0       5200.0  FEMALE\n",
      "343     Gentoo     Biscoe            49.9           16.1              213.0       5400.0    MALE\n"
     ]
    }
   ],
   "source": [
    "#fetch data from the web url\n",
    "#importing the raw penguin dataset using pandas and assigns the resulting dataframe to the variable penguin\n",
    "penguin = pd.read_csv(\"https://raw.githubusercontent.com/mwaskom/seaborn-data/master/penguins.csv\")\n",
    "print (penguin.to_string()) #converts the data set to string and presents it in a scrollable pattern"
   ]
  },
  {
   "cell_type": "code",
   "execution_count": 7,
   "metadata": {},
   "outputs": [],
   "source": [
    "#correlation between body mass and sex\n",
    "#specie and body mass, flipper legth, bill legth etc"
   ]
  },
  {
   "cell_type": "code",
   "execution_count": 8,
   "metadata": {},
   "outputs": [
    {
     "data": {
      "text/html": [
       "<div>\n",
       "<style scoped>\n",
       "    .dataframe tbody tr th:only-of-type {\n",
       "        vertical-align: middle;\n",
       "    }\n",
       "\n",
       "    .dataframe tbody tr th {\n",
       "        vertical-align: top;\n",
       "    }\n",
       "\n",
       "    .dataframe thead th {\n",
       "        text-align: right;\n",
       "    }\n",
       "</style>\n",
       "<table border=\"1\" class=\"dataframe\">\n",
       "  <thead>\n",
       "    <tr style=\"text-align: right;\">\n",
       "      <th></th>\n",
       "      <th>species</th>\n",
       "      <th>island</th>\n",
       "      <th>bill_length_mm</th>\n",
       "      <th>bill_depth_mm</th>\n",
       "      <th>flipper_length_mm</th>\n",
       "      <th>body_mass_g</th>\n",
       "      <th>sex</th>\n",
       "    </tr>\n",
       "  </thead>\n",
       "  <tbody>\n",
       "    <tr>\n",
       "      <th>0</th>\n",
       "      <td>Adelie</td>\n",
       "      <td>Torgersen</td>\n",
       "      <td>39.1</td>\n",
       "      <td>18.7</td>\n",
       "      <td>181.0</td>\n",
       "      <td>3750.0</td>\n",
       "      <td>MALE</td>\n",
       "    </tr>\n",
       "    <tr>\n",
       "      <th>1</th>\n",
       "      <td>Adelie</td>\n",
       "      <td>Torgersen</td>\n",
       "      <td>39.5</td>\n",
       "      <td>17.4</td>\n",
       "      <td>186.0</td>\n",
       "      <td>3800.0</td>\n",
       "      <td>FEMALE</td>\n",
       "    </tr>\n",
       "    <tr>\n",
       "      <th>2</th>\n",
       "      <td>Adelie</td>\n",
       "      <td>Torgersen</td>\n",
       "      <td>40.3</td>\n",
       "      <td>18.0</td>\n",
       "      <td>195.0</td>\n",
       "      <td>3250.0</td>\n",
       "      <td>FEMALE</td>\n",
       "    </tr>\n",
       "    <tr>\n",
       "      <th>3</th>\n",
       "      <td>Adelie</td>\n",
       "      <td>Torgersen</td>\n",
       "      <td>NaN</td>\n",
       "      <td>NaN</td>\n",
       "      <td>NaN</td>\n",
       "      <td>NaN</td>\n",
       "      <td>NaN</td>\n",
       "    </tr>\n",
       "    <tr>\n",
       "      <th>4</th>\n",
       "      <td>Adelie</td>\n",
       "      <td>Torgersen</td>\n",
       "      <td>36.7</td>\n",
       "      <td>19.3</td>\n",
       "      <td>193.0</td>\n",
       "      <td>3450.0</td>\n",
       "      <td>FEMALE</td>\n",
       "    </tr>\n",
       "    <tr>\n",
       "      <th>...</th>\n",
       "      <td>...</td>\n",
       "      <td>...</td>\n",
       "      <td>...</td>\n",
       "      <td>...</td>\n",
       "      <td>...</td>\n",
       "      <td>...</td>\n",
       "      <td>...</td>\n",
       "    </tr>\n",
       "    <tr>\n",
       "      <th>339</th>\n",
       "      <td>Gentoo</td>\n",
       "      <td>Biscoe</td>\n",
       "      <td>NaN</td>\n",
       "      <td>NaN</td>\n",
       "      <td>NaN</td>\n",
       "      <td>NaN</td>\n",
       "      <td>NaN</td>\n",
       "    </tr>\n",
       "    <tr>\n",
       "      <th>340</th>\n",
       "      <td>Gentoo</td>\n",
       "      <td>Biscoe</td>\n",
       "      <td>46.8</td>\n",
       "      <td>14.3</td>\n",
       "      <td>215.0</td>\n",
       "      <td>4850.0</td>\n",
       "      <td>FEMALE</td>\n",
       "    </tr>\n",
       "    <tr>\n",
       "      <th>341</th>\n",
       "      <td>Gentoo</td>\n",
       "      <td>Biscoe</td>\n",
       "      <td>50.4</td>\n",
       "      <td>15.7</td>\n",
       "      <td>222.0</td>\n",
       "      <td>5750.0</td>\n",
       "      <td>MALE</td>\n",
       "    </tr>\n",
       "    <tr>\n",
       "      <th>342</th>\n",
       "      <td>Gentoo</td>\n",
       "      <td>Biscoe</td>\n",
       "      <td>45.2</td>\n",
       "      <td>14.8</td>\n",
       "      <td>212.0</td>\n",
       "      <td>5200.0</td>\n",
       "      <td>FEMALE</td>\n",
       "    </tr>\n",
       "    <tr>\n",
       "      <th>343</th>\n",
       "      <td>Gentoo</td>\n",
       "      <td>Biscoe</td>\n",
       "      <td>49.9</td>\n",
       "      <td>16.1</td>\n",
       "      <td>213.0</td>\n",
       "      <td>5400.0</td>\n",
       "      <td>MALE</td>\n",
       "    </tr>\n",
       "  </tbody>\n",
       "</table>\n",
       "<p>344 rows × 7 columns</p>\n",
       "</div>"
      ],
      "text/plain": [
       "    species     island  bill_length_mm  bill_depth_mm  flipper_length_mm  \\\n",
       "0    Adelie  Torgersen            39.1           18.7              181.0   \n",
       "1    Adelie  Torgersen            39.5           17.4              186.0   \n",
       "2    Adelie  Torgersen            40.3           18.0              195.0   \n",
       "3    Adelie  Torgersen             NaN            NaN                NaN   \n",
       "4    Adelie  Torgersen            36.7           19.3              193.0   \n",
       "..      ...        ...             ...            ...                ...   \n",
       "339  Gentoo     Biscoe             NaN            NaN                NaN   \n",
       "340  Gentoo     Biscoe            46.8           14.3              215.0   \n",
       "341  Gentoo     Biscoe            50.4           15.7              222.0   \n",
       "342  Gentoo     Biscoe            45.2           14.8              212.0   \n",
       "343  Gentoo     Biscoe            49.9           16.1              213.0   \n",
       "\n",
       "     body_mass_g     sex  \n",
       "0         3750.0    MALE  \n",
       "1         3800.0  FEMALE  \n",
       "2         3250.0  FEMALE  \n",
       "3            NaN     NaN  \n",
       "4         3450.0  FEMALE  \n",
       "..           ...     ...  \n",
       "339          NaN     NaN  \n",
       "340       4850.0  FEMALE  \n",
       "341       5750.0    MALE  \n",
       "342       5200.0  FEMALE  \n",
       "343       5400.0    MALE  \n",
       "\n",
       "[344 rows x 7 columns]"
      ]
     },
     "execution_count": 8,
     "metadata": {},
     "output_type": "execute_result"
    }
   ],
   "source": [
    "#P rawenguin data set\n",
    "penguin"
   ]
  },
  {
   "cell_type": "code",
   "execution_count": 9,
   "metadata": {},
   "outputs": [
    {
     "name": "stdout",
     "output_type": "stream",
     "text": [
      "(344, 7)\n"
     ]
    },
    {
     "data": {
      "text/plain": [
       "<bound method DataFrame.__dataframe__ of     species     island  bill_length_mm  bill_depth_mm  flipper_length_mm  \\\n",
       "0    Adelie  Torgersen            39.1           18.7              181.0   \n",
       "1    Adelie  Torgersen            39.5           17.4              186.0   \n",
       "2    Adelie  Torgersen            40.3           18.0              195.0   \n",
       "3    Adelie  Torgersen             NaN            NaN                NaN   \n",
       "4    Adelie  Torgersen            36.7           19.3              193.0   \n",
       "..      ...        ...             ...            ...                ...   \n",
       "339  Gentoo     Biscoe             NaN            NaN                NaN   \n",
       "340  Gentoo     Biscoe            46.8           14.3              215.0   \n",
       "341  Gentoo     Biscoe            50.4           15.7              222.0   \n",
       "342  Gentoo     Biscoe            45.2           14.8              212.0   \n",
       "343  Gentoo     Biscoe            49.9           16.1              213.0   \n",
       "\n",
       "     body_mass_g     sex  \n",
       "0         3750.0    MALE  \n",
       "1         3800.0  FEMALE  \n",
       "2         3250.0  FEMALE  \n",
       "3            NaN     NaN  \n",
       "4         3450.0  FEMALE  \n",
       "..           ...     ...  \n",
       "339          NaN     NaN  \n",
       "340       4850.0  FEMALE  \n",
       "341       5750.0    MALE  \n",
       "342       5200.0  FEMALE  \n",
       "343       5400.0    MALE  \n",
       "\n",
       "[344 rows x 7 columns]>"
      ]
     },
     "execution_count": 9,
     "metadata": {},
     "output_type": "execute_result"
    }
   ],
   "source": [
    "###show the number of rows and columns with the heading inclusive\n",
    "print(penguin.shape)\n",
    "penguin.__dataframe__"
   ]
  },
  {
   "cell_type": "markdown",
   "metadata": {},
   "source": [
    "### Data Exploration and understanding the data structure"
   ]
  },
  {
   "cell_type": "code",
   "execution_count": 10,
   "metadata": {},
   "outputs": [
    {
     "name": "stdout",
     "output_type": "stream",
     "text": [
      "  species     island  bill_length_mm  bill_depth_mm  flipper_length_mm  \\\n",
      "0  Adelie  Torgersen            39.1           18.7              181.0   \n",
      "1  Adelie  Torgersen            39.5           17.4              186.0   \n",
      "2  Adelie  Torgersen            40.3           18.0              195.0   \n",
      "3  Adelie  Torgersen             NaN            NaN                NaN   \n",
      "4  Adelie  Torgersen            36.7           19.3              193.0   \n",
      "\n",
      "   body_mass_g     sex  \n",
      "0       3750.0    MALE  \n",
      "1       3800.0  FEMALE  \n",
      "2       3250.0  FEMALE  \n",
      "3          NaN     NaN  \n",
      "4       3450.0  FEMALE  \n"
     ]
    }
   ],
   "source": [
    "#understanding the data structure\n",
    "#this diplays the first five rows of the data\n",
    "print(penguin.head())\n"
   ]
  },
  {
   "cell_type": "code",
   "execution_count": 11,
   "metadata": {},
   "outputs": [
    {
     "name": "stdout",
     "output_type": "stream",
     "text": [
      "    species  island  bill_length_mm  bill_depth_mm  flipper_length_mm  \\\n",
      "339  Gentoo  Biscoe             NaN            NaN                NaN   \n",
      "340  Gentoo  Biscoe            46.8           14.3              215.0   \n",
      "341  Gentoo  Biscoe            50.4           15.7              222.0   \n",
      "342  Gentoo  Biscoe            45.2           14.8              212.0   \n",
      "343  Gentoo  Biscoe            49.9           16.1              213.0   \n",
      "\n",
      "     body_mass_g     sex  \n",
      "339          NaN     NaN  \n",
      "340       4850.0  FEMALE  \n",
      "341       5750.0    MALE  \n",
      "342       5200.0  FEMALE  \n",
      "343       5400.0    MALE  \n"
     ]
    }
   ],
   "source": [
    "print (penguin.tail())"
   ]
  },
  {
   "cell_type": "code",
   "execution_count": 12,
   "metadata": {},
   "outputs": [
    {
     "name": "stdout",
     "output_type": "stream",
     "text": [
      "<class 'pandas.core.frame.DataFrame'>\n",
      "RangeIndex: 344 entries, 0 to 343\n",
      "Data columns (total 7 columns):\n",
      " #   Column             Non-Null Count  Dtype  \n",
      "---  ------             --------------  -----  \n",
      " 0   species            344 non-null    object \n",
      " 1   island             344 non-null    object \n",
      " 2   bill_length_mm     342 non-null    float64\n",
      " 3   bill_depth_mm      342 non-null    float64\n",
      " 4   flipper_length_mm  342 non-null    float64\n",
      " 5   body_mass_g        342 non-null    float64\n",
      " 6   sex                333 non-null    object \n",
      "dtypes: float64(4), object(3)\n",
      "memory usage: 18.9+ KB\n"
     ]
    }
   ],
   "source": [
    "#data exploration\n",
    "penguin.info()"
   ]
  },
  {
   "cell_type": "code",
   "execution_count": 13,
   "metadata": {},
   "outputs": [
    {
     "data": {
      "text/plain": [
       "species                 Adelie\n",
       "island               Torgersen\n",
       "bill_length_mm            39.1\n",
       "bill_depth_mm             18.7\n",
       "flipper_length_mm        181.0\n",
       "body_mass_g             3750.0\n",
       "sex                       MALE\n",
       "Name: 0, dtype: object"
      ]
     },
     "execution_count": 13,
     "metadata": {},
     "output_type": "execute_result"
    }
   ],
   "source": [
    "#isolating the variables in the index data\n",
    "penguin.iloc[0]\n"
   ]
  },
  {
   "cell_type": "code",
   "execution_count": 14,
   "metadata": {},
   "outputs": [
    {
     "data": {
      "text/plain": [
       "0      Adelie\n",
       "1      Adelie\n",
       "2      Adelie\n",
       "3      Adelie\n",
       "4      Adelie\n",
       "        ...  \n",
       "339    Gentoo\n",
       "340    Gentoo\n",
       "341    Gentoo\n",
       "342    Gentoo\n",
       "343    Gentoo\n",
       "Name: species, Length: 344, dtype: object"
      ]
     },
     "execution_count": 14,
     "metadata": {},
     "output_type": "execute_result"
    }
   ],
   "source": [
    "penguin['species']\n"
   ]
  },
  {
   "cell_type": "code",
   "execution_count": 15,
   "metadata": {},
   "outputs": [
    {
     "data": {
      "text/plain": [
       "species\n",
       "Adelie       152\n",
       "Gentoo       124\n",
       "Chinstrap     68\n",
       "Name: count, dtype: int64"
      ]
     },
     "execution_count": 15,
     "metadata": {},
     "output_type": "execute_result"
    }
   ],
   "source": [
    "penguin['species'].value_counts()"
   ]
  },
  {
   "cell_type": "code",
   "execution_count": 16,
   "metadata": {},
   "outputs": [
    {
     "data": {
      "text/plain": [
       "species               object\n",
       "island                object\n",
       "bill_length_mm       float64\n",
       "bill_depth_mm        float64\n",
       "flipper_length_mm    float64\n",
       "body_mass_g          float64\n",
       "sex                   object\n",
       "dtype: object"
      ]
     },
     "execution_count": 16,
     "metadata": {},
     "output_type": "execute_result"
    }
   ],
   "source": [
    "penguin.dtypes"
   ]
  },
  {
   "cell_type": "code",
   "execution_count": 17,
   "metadata": {},
   "outputs": [
    {
     "data": {
      "text/html": [
       "<div>\n",
       "<style scoped>\n",
       "    .dataframe tbody tr th:only-of-type {\n",
       "        vertical-align: middle;\n",
       "    }\n",
       "\n",
       "    .dataframe tbody tr th {\n",
       "        vertical-align: top;\n",
       "    }\n",
       "\n",
       "    .dataframe thead th {\n",
       "        text-align: right;\n",
       "    }\n",
       "</style>\n",
       "<table border=\"1\" class=\"dataframe\">\n",
       "  <thead>\n",
       "    <tr style=\"text-align: right;\">\n",
       "      <th></th>\n",
       "      <th>bill_length_mm</th>\n",
       "      <th>bill_depth_mm</th>\n",
       "      <th>flipper_length_mm</th>\n",
       "      <th>body_mass_g</th>\n",
       "    </tr>\n",
       "  </thead>\n",
       "  <tbody>\n",
       "    <tr>\n",
       "      <th>count</th>\n",
       "      <td>342.000000</td>\n",
       "      <td>342.000000</td>\n",
       "      <td>342.000000</td>\n",
       "      <td>342.000000</td>\n",
       "    </tr>\n",
       "    <tr>\n",
       "      <th>mean</th>\n",
       "      <td>43.921930</td>\n",
       "      <td>17.151170</td>\n",
       "      <td>200.915205</td>\n",
       "      <td>4201.754386</td>\n",
       "    </tr>\n",
       "    <tr>\n",
       "      <th>std</th>\n",
       "      <td>5.459584</td>\n",
       "      <td>1.974793</td>\n",
       "      <td>14.061714</td>\n",
       "      <td>801.954536</td>\n",
       "    </tr>\n",
       "    <tr>\n",
       "      <th>min</th>\n",
       "      <td>32.100000</td>\n",
       "      <td>13.100000</td>\n",
       "      <td>172.000000</td>\n",
       "      <td>2700.000000</td>\n",
       "    </tr>\n",
       "    <tr>\n",
       "      <th>25%</th>\n",
       "      <td>39.225000</td>\n",
       "      <td>15.600000</td>\n",
       "      <td>190.000000</td>\n",
       "      <td>3550.000000</td>\n",
       "    </tr>\n",
       "    <tr>\n",
       "      <th>50%</th>\n",
       "      <td>44.450000</td>\n",
       "      <td>17.300000</td>\n",
       "      <td>197.000000</td>\n",
       "      <td>4050.000000</td>\n",
       "    </tr>\n",
       "    <tr>\n",
       "      <th>75%</th>\n",
       "      <td>48.500000</td>\n",
       "      <td>18.700000</td>\n",
       "      <td>213.000000</td>\n",
       "      <td>4750.000000</td>\n",
       "    </tr>\n",
       "    <tr>\n",
       "      <th>max</th>\n",
       "      <td>59.600000</td>\n",
       "      <td>21.500000</td>\n",
       "      <td>231.000000</td>\n",
       "      <td>6300.000000</td>\n",
       "    </tr>\n",
       "  </tbody>\n",
       "</table>\n",
       "</div>"
      ],
      "text/plain": [
       "       bill_length_mm  bill_depth_mm  flipper_length_mm  body_mass_g\n",
       "count      342.000000     342.000000         342.000000   342.000000\n",
       "mean        43.921930      17.151170         200.915205  4201.754386\n",
       "std          5.459584       1.974793          14.061714   801.954536\n",
       "min         32.100000      13.100000         172.000000  2700.000000\n",
       "25%         39.225000      15.600000         190.000000  3550.000000\n",
       "50%         44.450000      17.300000         197.000000  4050.000000\n",
       "75%         48.500000      18.700000         213.000000  4750.000000\n",
       "max         59.600000      21.500000         231.000000  6300.000000"
      ]
     },
     "execution_count": 17,
     "metadata": {},
     "output_type": "execute_result"
    }
   ],
   "source": [
    "penguin.describe()"
   ]
  },
  {
   "cell_type": "code",
   "execution_count": 18,
   "metadata": {},
   "outputs": [
    {
     "data": {
      "text/plain": [
       "species               0\n",
       "island                0\n",
       "bill_length_mm        2\n",
       "bill_depth_mm         2\n",
       "flipper_length_mm     2\n",
       "body_mass_g           2\n",
       "sex                  11\n",
       "dtype: int64"
      ]
     },
     "execution_count": 18,
     "metadata": {},
     "output_type": "execute_result"
    }
   ],
   "source": [
    "#Checking all the null values in the dataset\n",
    "penguin.isnull().sum()"
   ]
  },
  {
   "cell_type": "code",
   "execution_count": 19,
   "metadata": {},
   "outputs": [
    {
     "name": "stdout",
     "output_type": "stream",
     "text": [
      "0      39.1\n",
      "1      39.5\n",
      "2      40.3\n",
      "3       NaN\n",
      "4      36.7\n",
      "       ... \n",
      "339     NaN\n",
      "340    46.8\n",
      "341    50.4\n",
      "342    45.2\n",
      "343    49.9\n",
      "Name: bill_length_mm, Length: 344, dtype: float64\n"
     ]
    }
   ],
   "source": [
    "blen = penguin['bill_length_mm']\n",
    "print (blen)"
   ]
  },
  {
   "cell_type": "code",
   "execution_count": 20,
   "metadata": {},
   "outputs": [
    {
     "name": "stdout",
     "output_type": "stream",
     "text": [
      "0      18.7\n",
      "1      17.4\n",
      "2      18.0\n",
      "3       NaN\n",
      "4      19.3\n",
      "       ... \n",
      "339     NaN\n",
      "340    14.3\n",
      "341    15.7\n",
      "342    14.8\n",
      "343    16.1\n",
      "Name: bill_depth_mm, Length: 344, dtype: float64\n",
      "<class 'pandas.core.series.Series'>\n"
     ]
    }
   ],
   "source": [
    "bdepth = penguin['bill_depth_mm']\n",
    "print (bdepth)\n",
    "print (type(bdepth))"
   ]
  },
  {
   "cell_type": "code",
   "execution_count": 21,
   "metadata": {},
   "outputs": [
    {
     "name": "stdout",
     "output_type": "stream",
     "text": [
      "[39.1 39.5 40.3  nan 36.7 39.3 38.9 39.2 34.1 42.  37.8 37.8 41.1 38.6\n",
      " 34.6 36.6 38.7 42.5 34.4 46.  37.8 37.7 35.9 38.2 38.8 35.3 40.6 40.5\n",
      " 37.9 40.5 39.5 37.2 39.5 40.9 36.4 39.2 38.8 42.2 37.6 39.8 36.5 40.8\n",
      " 36.  44.1 37.  39.6 41.1 37.5 36.  42.3 39.6 40.1 35.  42.  34.5 41.4\n",
      " 39.  40.6 36.5 37.6 35.7 41.3 37.6 41.1 36.4 41.6 35.5 41.1 35.9 41.8\n",
      " 33.5 39.7 39.6 45.8 35.5 42.8 40.9 37.2 36.2 42.1 34.6 42.9 36.7 35.1\n",
      " 37.3 41.3 36.3 36.9 38.3 38.9 35.7 41.1 34.  39.6 36.2 40.8 38.1 40.3\n",
      " 33.1 43.2 35.  41.  37.7 37.8 37.9 39.7 38.6 38.2 38.1 43.2 38.1 45.6\n",
      " 39.7 42.2 39.6 42.7 38.6 37.3 35.7 41.1 36.2 37.7 40.2 41.4 35.2 40.6\n",
      " 38.8 41.5 39.  44.1 38.5 43.1 36.8 37.5 38.1 41.1 35.6 40.2 37.  39.7\n",
      " 40.2 40.6 32.1 40.7 37.3 39.  39.2 36.6 36.  37.8 36.  41.5 46.5 50.\n",
      " 51.3 45.4 52.7 45.2 46.1 51.3 46.  51.3 46.6 51.7 47.  52.  45.9 50.5\n",
      " 50.3 58.  46.4 49.2 42.4 48.5 43.2 50.6 46.7 52.  50.5 49.5 46.4 52.8\n",
      " 40.9 54.2 42.5 51.  49.7 47.5 47.6 52.  46.9 53.5 49.  46.2 50.9 45.5\n",
      " 50.9 50.8 50.1 49.  51.5 49.8 48.1 51.4 45.7 50.7 42.5 52.2 45.2 49.3\n",
      " 50.2 45.6 51.9 46.8 45.7 55.8 43.5 49.6 50.8 50.2 46.1 50.  48.7 50.\n",
      " 47.6 46.5 45.4 46.7 43.3 46.8 40.9 49.  45.5 48.4 45.8 49.3 42.  49.2\n",
      " 46.2 48.7 50.2 45.1 46.5 46.3 42.9 46.1 44.5 47.8 48.2 50.  47.3 42.8\n",
      " 45.1 59.6 49.1 48.4 42.6 44.4 44.  48.7 42.7 49.6 45.3 49.6 50.5 43.6\n",
      " 45.5 50.5 44.9 45.2 46.6 48.5 45.1 50.1 46.5 45.  43.8 45.5 43.2 50.4\n",
      " 45.3 46.2 45.7 54.3 45.8 49.8 46.2 49.5 43.5 50.7 47.7 46.4 48.2 46.5\n",
      " 46.4 48.6 47.5 51.1 45.2 45.2 49.1 52.5 47.4 50.  44.9 50.8 43.4 51.3\n",
      " 47.5 52.1 47.5 52.2 45.5 49.5 44.5 50.8 49.4 46.9 48.4 51.1 48.5 55.9\n",
      " 47.2 49.1 47.3 46.8 41.7 53.4 43.3 48.1 50.5 49.8 43.5 51.5 46.2 55.1\n",
      " 44.5 48.8 47.2  nan 46.8 50.4 45.2 49.9]\n"
     ]
    }
   ],
   "source": [
    "#getting the numpy array\n",
    "blength = blen.to_numpy()\n",
    "print (blength)"
   ]
  },
  {
   "cell_type": "code",
   "execution_count": 22,
   "metadata": {},
   "outputs": [
    {
     "name": "stdout",
     "output_type": "stream",
     "text": [
      "[18.7 17.4 18.   nan 19.3 20.6 17.8 19.6 18.1 20.2 17.1 17.3 17.6 21.2\n",
      " 21.1 17.8 19.  20.7 18.4 21.5 18.3 18.7 19.2 18.1 17.2 18.9 18.6 17.9\n",
      " 18.6 18.9 16.7 18.1 17.8 18.9 17.  21.1 20.  18.5 19.3 19.1 18.  18.4\n",
      " 18.5 19.7 16.9 18.8 19.  18.9 17.9 21.2 17.7 18.9 17.9 19.5 18.1 18.6\n",
      " 17.5 18.8 16.6 19.1 16.9 21.1 17.  18.2 17.1 18.  16.2 19.1 16.6 19.4\n",
      " 19.  18.4 17.2 18.9 17.5 18.5 16.8 19.4 16.1 19.1 17.2 17.6 18.8 19.4\n",
      " 17.8 20.3 19.5 18.6 19.2 18.8 18.  18.1 17.1 18.1 17.3 18.9 18.6 18.5\n",
      " 16.1 18.5 17.9 20.  16.  20.  18.6 18.9 17.2 20.  17.  19.  16.5 20.3\n",
      " 17.7 19.5 20.7 18.3 17.  20.5 17.  18.6 17.2 19.8 17.  18.5 15.9 19.\n",
      " 17.6 18.3 17.1 18.  17.9 19.2 18.5 18.5 17.6 17.5 17.5 20.1 16.5 17.9\n",
      " 17.1 17.2 15.5 17.  16.8 18.7 18.6 18.4 17.8 18.1 17.1 18.5 17.9 19.5\n",
      " 19.2 18.7 19.8 17.8 18.2 18.2 18.9 19.9 17.8 20.3 17.3 18.1 17.1 19.6\n",
      " 20.  17.8 18.6 18.2 17.3 17.5 16.6 19.4 17.9 19.  18.4 19.  17.8 20.\n",
      " 16.6 20.8 16.7 18.8 18.6 16.8 18.3 20.7 16.6 19.9 19.5 17.5 19.1 17.\n",
      " 17.9 18.5 17.9 19.6 18.7 17.3 16.4 19.  17.3 19.7 17.3 18.8 16.6 19.9\n",
      " 18.8 19.4 19.5 16.5 17.  19.8 18.1 18.2 19.  18.7 13.2 16.3 14.1 15.2\n",
      " 14.5 13.5 14.6 15.3 13.4 15.4 13.7 16.1 13.7 14.6 14.6 15.7 13.5 15.2\n",
      " 14.5 15.1 14.3 14.5 14.5 15.8 13.1 15.1 14.3 15.  14.3 15.3 15.3 14.2\n",
      " 14.5 17.  14.8 16.3 13.7 17.3 13.6 15.7 13.7 16.  13.7 15.  15.9 13.9\n",
      " 13.9 15.9 13.3 15.8 14.2 14.1 14.4 15.  14.4 15.4 13.9 15.  14.5 15.3\n",
      " 13.8 14.9 13.9 15.7 14.2 16.8 14.4 16.2 14.2 15.  15.  15.6 15.6 14.8\n",
      " 15.  16.  14.2 16.3 13.8 16.4 14.5 15.6 14.6 15.9 13.8 17.3 14.4 14.2\n",
      " 14.  17.  15.  17.1 14.5 16.1 14.7 15.7 15.8 14.6 14.4 16.5 15.  17.\n",
      " 15.5 15.  13.8 16.1 14.7 15.8 14.  15.1 15.2 15.9 15.2 16.3 14.1 16.\n",
      " 15.7 16.2 13.7  nan 14.3 15.7 14.8 16.1]\n"
     ]
    }
   ],
   "source": [
    "bdept = bdepth.to_numpy()\n",
    "print (bdept)"
   ]
  },
  {
   "cell_type": "code",
   "execution_count": 23,
   "metadata": {},
   "outputs": [
    {
     "data": {
      "text/plain": [
       "[<matplotlib.lines.Line2D at 0x200ef4e0150>]"
      ]
     },
     "execution_count": 23,
     "metadata": {},
     "output_type": "execute_result"
    },
    {
     "data": {
      "image/png": "[encoded data removed]",
      "text/plain": [
       "<Figure size 640x480 with 1 Axes>"
      ]
     },
     "metadata": {},
     "output_type": "display_data"
    }
   ],
   "source": [
    "#simple plot\n",
    "plt.plot(bdept, blength, 'o')"
   ]
  },
  {
   "cell_type": "code",
   "execution_count": 24,
   "metadata": {},
   "outputs": [
    {
     "data": {
      "text/plain": [
       "(0.0, 65.0)"
      ]
     },
     "execution_count": 24,
     "metadata": {},
     "output_type": "execute_result"
    },
    {
     "data": {
      "image/png": "[encoded data removed]",
      "text/plain": [
       "<Figure size 640x480 with 1 Axes>"
      ]
     },
     "metadata": {},
     "output_type": "display_data"
    }
   ],
   "source": [
    "#simple plot\n",
    "plt.plot(bdept, blength, '*')\n",
    "plt.xlabel('bill length (mm)')\n",
    "plt.ylabel('bill depth (mm)')\n",
    "plt.title('penguin data set')\n",
    "#setting the axis limit\n",
    "plt.xlim(0,40)\n",
    "plt.ylim(0, 65)"
   ]
  },
  {
   "cell_type": "code",
   "execution_count": 25,
   "metadata": {},
   "outputs": [
    {
     "data": {
      "text/plain": [
       "(20.0, 65.0)"
      ]
     },
     "execution_count": 25,
     "metadata": {},
     "output_type": "execute_result"
    },
    {
     "data": {
      "image/png": "[encoded data removed]",
      "text/plain": [
       "<Figure size 640x480 with 1 Axes>"
      ]
     },
     "metadata": {},
     "output_type": "display_data"
    }
   ],
   "source": [
    "#stateless\n",
    "fig, ax = plt.subplots()\n",
    "ax.plot(bdept, blength, 'x')\n",
    "ax.set_xlabel('bill length (mm)')\n",
    "ax.set_ylabel('bill depth (mm)')\n",
    "ax.set_title('penguin data set')\n",
    "#setting the axis limit\n",
    "#x limit\n",
    "ax.set_xlim(12,25)\n",
    "#y limits\n",
    "ax.set_ylim(20, 65)\n",
    "#add best fit line\n",
    "\n",
    "\n"
   ]
  },
  {
   "cell_type": "markdown",
   "metadata": {},
   "source": [
    "#$ is used at the beginning and at the end of the equation  to render it in mathematical equation\n",
    "#y = mx + c is used to find the linear relationsship btw x and y while m and c ae constant\n",
    "\n",
    "$ y = mx + c = p_1x^1 + p_o = p_1 x + po $"
   ]
  },
  {
   "cell_type": "code",
   "execution_count": 26,
   "metadata": {},
   "outputs": [
    {
     "ename": "LinAlgError",
     "evalue": "SVD did not converge in Linear Least Squares",
     "output_type": "error",
     "traceback": [
      "\u001b[1;31m---------------------------------------------------------------------------\u001b[0m",
      "\u001b[1;31mLinAlgError\u001b[0m                               Traceback (most recent call last)",
      "Cell \u001b[1;32mIn[26], line 3\u001b[0m\n\u001b[0;32m      1\u001b[0m \u001b[38;5;66;03m#fitting a straight lin between bill lentgh and depth\u001b[39;00m\n\u001b[1;32m----> 3\u001b[0m m, c \u001b[38;5;241m=\u001b[39m np\u001b[38;5;241m.\u001b[39mpolyfit (blength, bdept, \u001b[38;5;241m1\u001b[39m)\n",
      "File \u001b[1;32m<__array_function__ internals>:200\u001b[0m, in \u001b[0;36mpolyfit\u001b[1;34m(*args, **kwargs)\u001b[0m\n",
      "File \u001b[1;32mc:\\ProgramData\\anaconda3\\Lib\\site-packages\\numpy\\lib\\polynomial.py:668\u001b[0m, in \u001b[0;36mpolyfit\u001b[1;34m(x, y, deg, rcond, full, w, cov)\u001b[0m\n\u001b[0;32m    666\u001b[0m scale \u001b[38;5;241m=\u001b[39m NX\u001b[38;5;241m.\u001b[39msqrt((lhs\u001b[38;5;241m*\u001b[39mlhs)\u001b[38;5;241m.\u001b[39msum(axis\u001b[38;5;241m=\u001b[39m\u001b[38;5;241m0\u001b[39m))\n\u001b[0;32m    667\u001b[0m lhs \u001b[38;5;241m/\u001b[39m\u001b[38;5;241m=\u001b[39m scale\n\u001b[1;32m--> 668\u001b[0m c, resids, rank, s \u001b[38;5;241m=\u001b[39m lstsq(lhs, rhs, rcond)\n\u001b[0;32m    669\u001b[0m c \u001b[38;5;241m=\u001b[39m (c\u001b[38;5;241m.\u001b[39mT\u001b[38;5;241m/\u001b[39mscale)\u001b[38;5;241m.\u001b[39mT  \u001b[38;5;66;03m# broadcast scale coefficients\u001b[39;00m\n\u001b[0;32m    671\u001b[0m \u001b[38;5;66;03m# warn on rank reduction, which indicates an ill conditioned matrix\u001b[39;00m\n",
      "File \u001b[1;32m<__array_function__ internals>:200\u001b[0m, in \u001b[0;36mlstsq\u001b[1;34m(*args, **kwargs)\u001b[0m\n",
      "File \u001b[1;32mc:\\ProgramData\\anaconda3\\Lib\\site-packages\\numpy\\linalg\\linalg.py:2285\u001b[0m, in \u001b[0;36mlstsq\u001b[1;34m(a, b, rcond)\u001b[0m\n\u001b[0;32m   2282\u001b[0m \u001b[38;5;28;01mif\u001b[39;00m n_rhs \u001b[38;5;241m==\u001b[39m \u001b[38;5;241m0\u001b[39m:\n\u001b[0;32m   2283\u001b[0m     \u001b[38;5;66;03m# lapack can't handle n_rhs = 0 - so allocate the array one larger in that axis\u001b[39;00m\n\u001b[0;32m   2284\u001b[0m     b \u001b[38;5;241m=\u001b[39m zeros(b\u001b[38;5;241m.\u001b[39mshape[:\u001b[38;5;241m-\u001b[39m\u001b[38;5;241m2\u001b[39m] \u001b[38;5;241m+\u001b[39m (m, n_rhs \u001b[38;5;241m+\u001b[39m \u001b[38;5;241m1\u001b[39m), dtype\u001b[38;5;241m=\u001b[39mb\u001b[38;5;241m.\u001b[39mdtype)\n\u001b[1;32m-> 2285\u001b[0m x, resids, rank, s \u001b[38;5;241m=\u001b[39m gufunc(a, b, rcond, signature\u001b[38;5;241m=\u001b[39msignature, extobj\u001b[38;5;241m=\u001b[39mextobj)\n\u001b[0;32m   2286\u001b[0m \u001b[38;5;28;01mif\u001b[39;00m m \u001b[38;5;241m==\u001b[39m \u001b[38;5;241m0\u001b[39m:\n\u001b[0;32m   2287\u001b[0m     x[\u001b[38;5;241m.\u001b[39m\u001b[38;5;241m.\u001b[39m\u001b[38;5;241m.\u001b[39m] \u001b[38;5;241m=\u001b[39m \u001b[38;5;241m0\u001b[39m\n",
      "File \u001b[1;32mc:\\ProgramData\\anaconda3\\Lib\\site-packages\\numpy\\linalg\\linalg.py:101\u001b[0m, in \u001b[0;36m_raise_linalgerror_lstsq\u001b[1;34m(err, flag)\u001b[0m\n\u001b[0;32m    100\u001b[0m \u001b[38;5;28;01mdef\u001b[39;00m \u001b[38;5;21m_raise_linalgerror_lstsq\u001b[39m(err, flag):\n\u001b[1;32m--> 101\u001b[0m     \u001b[38;5;28;01mraise\u001b[39;00m LinAlgError(\u001b[38;5;124m\"\u001b[39m\u001b[38;5;124mSVD did not converge in Linear Least Squares\u001b[39m\u001b[38;5;124m\"\u001b[39m)\n",
      "\u001b[1;31mLinAlgError\u001b[0m: SVD did not converge in Linear Least Squares"
     ]
    },
    {
     "ename": "",
     "evalue": "",
     "output_type": "error",
     "traceback": [
      "\u001b[1;31mThe Kernel crashed while executing code in the current cell or a previous cell. \n",
      "\u001b[1;31mPlease review the code in the cell(s) to identify a possible cause of the failure. \n",
      "\u001b[1;31mClick <a href='https://aka.ms/vscodeJupyterKernelCrash'>here</a> for more info. \n",
      "\u001b[1;31mView Jupyter <a href='command:jupyter.viewOutput'>log</a> for further details."
     ]
    }
   ],
   "source": [
    "#fitting a straight lin between bill lentgh and depth\n",
    "\n",
    "m, c = np.polyfit (blength, bdept, 1)\n",
    "\n",
    "# show \n",
    "#m, c"
   ]
  },
  {
   "cell_type": "code",
   "execution_count": null,
   "metadata": {},
   "outputs": [
    {
     "ename": "ValueError",
     "evalue": "too many values to unpack (expected 2)",
     "output_type": "error",
     "traceback": [
      "\u001b[1;31m---------------------------------------------------------------------------\u001b[0m",
      "\u001b[1;31mValueError\u001b[0m                                Traceback (most recent call last)",
      "Cell \u001b[1;32mIn[12], line 1\u001b[0m\n\u001b[1;32m----> 1\u001b[0m bill_length, bl_counts \u001b[38;5;241m=\u001b[39m penguin[\u001b[38;5;124m'\u001b[39m\u001b[38;5;124mbill_length_mm\u001b[39m\u001b[38;5;124m'\u001b[39m]\u001b[38;5;241m.\u001b[39mvalue_counts()\n",
      "\u001b[1;31mValueError\u001b[0m: too many values to unpack (expected 2)"
     ]
    }
   ],
   "source": [
    "bill_length, bl_counts = penguin['bill_length_mm'].value_counts()"
   ]
  },
  {
   "cell_type": "code",
   "execution_count": null,
   "metadata": {},
   "outputs": [
    {
     "ename": "NameError",
     "evalue": "name 'bill_length' is not defined",
     "output_type": "error",
     "traceback": [
      "\u001b[1;31m---------------------------------------------------------------------------\u001b[0m",
      "\u001b[1;31mNameError\u001b[0m                                 Traceback (most recent call last)",
      "Cell \u001b[1;32mIn[14], line 1\u001b[0m\n\u001b[1;32m----> 1\u001b[0m plt\u001b[38;5;241m.\u001b[39mbar(bill_length, bl_counts, edgecolor\u001b[38;5;241m=\u001b[39m\u001b[38;5;124m'\u001b[39m\u001b[38;5;124mblack\u001b[39m\u001b[38;5;124m'\u001b[39m)\n",
      "\u001b[1;31mNameError\u001b[0m: name 'bill_length' is not defined"
     ]
    }
   ],
   "source": [
    "plt.bar(bill_length, bl_counts, edgecolor='black')"
   ]
  },
  {
   "cell_type": "code",
   "execution_count": null,
   "metadata": {},
   "outputs": [],
   "source": [
    "plt.bar(values, counts, edgecolor='black')"
   ]
  },
  {
   "cell_type": "code",
   "execution_count": null,
   "metadata": {},
   "outputs": [],
   "source": []
  },
  {
   "cell_type": "code",
   "execution_count": null,
   "metadata": {},
   "outputs": [],
   "source": []
  },
  {
   "cell_type": "code",
   "execution_count": null,
   "metadata": {},
   "outputs": [],
   "source": []
  },
  {
   "cell_type": "code",
   "execution_count": null,
   "metadata": {},
   "outputs": [
    {
     "data": {
      "text/plain": [
       "island\n",
       "Biscoe       168\n",
       "Dream        124\n",
       "Torgersen     52\n",
       "Name: count, dtype: int64"
      ]
     },
     "execution_count": 13,
     "metadata": {},
     "output_type": "execute_result"
    }
   ],
   "source": [
    "penguin['island'].value_counts()"
   ]
  },
  {
   "cell_type": "code",
   "execution_count": null,
   "metadata": {},
   "outputs": [
    {
     "data": {
      "text/plain": [
       "island\n",
       "Biscoe       168\n",
       "Dream        124\n",
       "Torgersen     52\n",
       "Name: count, dtype: int64"
      ]
     },
     "execution_count": 14,
     "metadata": {},
     "output_type": "execute_result"
    }
   ],
   "source": [
    "penguin['island'].value_counts()"
   ]
  },
  {
   "cell_type": "code",
   "execution_count": null,
   "metadata": {},
   "outputs": [
    {
     "data": {
      "text/html": [
       "<div>\n",
       "<style scoped>\n",
       "    .dataframe tbody tr th:only-of-type {\n",
       "        vertical-align: middle;\n",
       "    }\n",
       "\n",
       "    .dataframe tbody tr th {\n",
       "        vertical-align: top;\n",
       "    }\n",
       "\n",
       "    .dataframe thead th {\n",
       "        text-align: right;\n",
       "    }\n",
       "</style>\n",
       "<table border=\"1\" class=\"dataframe\">\n",
       "  <thead>\n",
       "    <tr style=\"text-align: right;\">\n",
       "      <th></th>\n",
       "      <th>bill_length_mm</th>\n",
       "      <th>bill_depth_mm</th>\n",
       "      <th>flipper_length_mm</th>\n",
       "      <th>body_mass_g</th>\n",
       "    </tr>\n",
       "  </thead>\n",
       "  <tbody>\n",
       "    <tr>\n",
       "      <th>count</th>\n",
       "      <td>342.000000</td>\n",
       "      <td>342.000000</td>\n",
       "      <td>342.000000</td>\n",
       "      <td>342.000000</td>\n",
       "    </tr>\n",
       "    <tr>\n",
       "      <th>mean</th>\n",
       "      <td>43.921930</td>\n",
       "      <td>17.151170</td>\n",
       "      <td>200.915205</td>\n",
       "      <td>4201.754386</td>\n",
       "    </tr>\n",
       "    <tr>\n",
       "      <th>std</th>\n",
       "      <td>5.459584</td>\n",
       "      <td>1.974793</td>\n",
       "      <td>14.061714</td>\n",
       "      <td>801.954536</td>\n",
       "    </tr>\n",
       "    <tr>\n",
       "      <th>min</th>\n",
       "      <td>32.100000</td>\n",
       "      <td>13.100000</td>\n",
       "      <td>172.000000</td>\n",
       "      <td>2700.000000</td>\n",
       "    </tr>\n",
       "    <tr>\n",
       "      <th>25%</th>\n",
       "      <td>39.225000</td>\n",
       "      <td>15.600000</td>\n",
       "      <td>190.000000</td>\n",
       "      <td>3550.000000</td>\n",
       "    </tr>\n",
       "    <tr>\n",
       "      <th>50%</th>\n",
       "      <td>44.450000</td>\n",
       "      <td>17.300000</td>\n",
       "      <td>197.000000</td>\n",
       "      <td>4050.000000</td>\n",
       "    </tr>\n",
       "    <tr>\n",
       "      <th>75%</th>\n",
       "      <td>48.500000</td>\n",
       "      <td>18.700000</td>\n",
       "      <td>213.000000</td>\n",
       "      <td>4750.000000</td>\n",
       "    </tr>\n",
       "    <tr>\n",
       "      <th>max</th>\n",
       "      <td>59.600000</td>\n",
       "      <td>21.500000</td>\n",
       "      <td>231.000000</td>\n",
       "      <td>6300.000000</td>\n",
       "    </tr>\n",
       "  </tbody>\n",
       "</table>\n",
       "</div>"
      ],
      "text/plain": [
       "       bill_length_mm  bill_depth_mm  flipper_length_mm  body_mass_g\n",
       "count      342.000000     342.000000         342.000000   342.000000\n",
       "mean        43.921930      17.151170         200.915205  4201.754386\n",
       "std          5.459584       1.974793          14.061714   801.954536\n",
       "min         32.100000      13.100000         172.000000  2700.000000\n",
       "25%         39.225000      15.600000         190.000000  3550.000000\n",
       "50%         44.450000      17.300000         197.000000  4050.000000\n",
       "75%         48.500000      18.700000         213.000000  4750.000000\n",
       "max         59.600000      21.500000         231.000000  6300.000000"
      ]
     },
     "execution_count": 15,
     "metadata": {},
     "output_type": "execute_result"
    }
   ],
   "source": [
    "penguin.describe()"
   ]
  },
  {
   "cell_type": "code",
   "execution_count": null,
   "metadata": {},
   "outputs": [
    {
     "data": {
      "text/plain": [
       "'101011001'"
      ]
     },
     "execution_count": 16,
     "metadata": {},
     "output_type": "execute_result"
    }
   ],
   "source": [
    "#converting to binary\n",
    "345\n",
    "f'{345:08b}'\n",
    "\n"
   ]
  },
  {
   "cell_type": "code",
   "execution_count": null,
   "metadata": {},
   "outputs": [
    {
     "name": "stdout",
     "output_type": "stream",
     "text": [
      "<module 'numpy' from 'c:\\\\ProgramData\\\\anaconda3\\\\Lib\\\\site-packages\\\\numpy\\\\__init__.py'>\n"
     ]
    }
   ],
   "source": [
    "import numpy as np\n",
    "print (np)"
   ]
  },
  {
   "cell_type": "code",
   "execution_count": null,
   "metadata": {},
   "outputs": [],
   "source": []
  },
  {
   "cell_type": "code",
   "execution_count": null,
   "metadata": {},
   "outputs": [
    {
     "name": "stdout",
     "output_type": "stream",
     "text": [
      "[[1 2 3]\n",
      " [4 5 6]\n",
      " [7 8 9]]\n"
     ]
    },
    {
     "data": {
      "text/plain": [
       "array([[1, 2, 3],\n",
       "       [4, 5, 6],\n",
       "       [7, 8, 9]])"
      ]
     },
     "execution_count": 18,
     "metadata": {},
     "output_type": "execute_result"
    }
   ],
   "source": [
    "\n",
    "a = ([[1,2,3], [4,5,6], [7,8,9]])\n",
    "a = np.array([[1,2,3], [4,5,6], [7,8,9]])\n",
    "print (a)\n",
    "a.dtype\n",
    "a[:10]"
   ]
  },
  {
   "cell_type": "code",
   "execution_count": null,
   "metadata": {},
   "outputs": [
    {
     "data": {
      "text/plain": [
       "array([1, 2, 3, 4, 5, 6, 7, 8, 9])"
      ]
     },
     "execution_count": 19,
     "metadata": {},
     "output_type": "execute_result"
    }
   ],
   "source": [
    "np.random.randint(a)\n",
    "np.unique(a) #displayes each unique or distint number\n"
   ]
  },
  {
   "cell_type": "code",
   "execution_count": null,
   "metadata": {},
   "outputs": [
    {
     "data": {
      "text/plain": [
       "(array([1, 2, 3, 4, 5, 6, 7, 8, 9]),\n",
       " array([1, 1, 1, 1, 1, 1, 1, 1, 1], dtype=int64))"
      ]
     },
     "execution_count": 20,
     "metadata": {},
     "output_type": "execute_result"
    }
   ],
   "source": [
    "np.unique(a, return_counts=True)"
   ]
  },
  {
   "cell_type": "code",
   "execution_count": null,
   "metadata": {},
   "outputs": [],
   "source": [
    "# using numpy to generate random number\n",
    "b = np.random.randint(1, 8, 2000) #how many times 7 no will be gen from 2000\n",
    "np.unique(b)\n",
    "b[:1000]\n",
    "np.unique(b, return_counts=True) #used for counting\n",
    "#def 2 variables and assign them to each number and the freq of occurence\n",
    "number, frequency = np.unique(b, return_counts=True)\n",
    "\n"
   ]
  },
  {
   "cell_type": "code",
   "execution_count": null,
   "metadata": {},
   "outputs": [
    {
     "name": "stdout",
     "output_type": "stream",
     "text": [
      "[1 2 3 4 5 6 7] [276 297 275 278 291 284 299]\n",
      "[276 297 275 278 291 284 299]\n"
     ]
    }
   ],
   "source": [
    "#def 2 variables and assign them to each number and the freq of occurence\n",
    "number, frequency = np.unique(b, return_counts=True)\n",
    "print (number, frequency)\n",
    "print (frequency)\n"
   ]
  },
  {
   "cell_type": "code",
   "execution_count": null,
   "metadata": {},
   "outputs": [
    {
     "data": {
      "text/plain": [
       "4.0"
      ]
     },
     "execution_count": 23,
     "metadata": {},
     "output_type": "execute_result"
    }
   ],
   "source": [
    "np.mean(b) #generate mean\n",
    "np.std(b) #generate std deviation\n",
    "np.median(b) #generate median\n"
   ]
  },
  {
   "cell_type": "code",
   "execution_count": null,
   "metadata": {},
   "outputs": [
    {
     "data": {
      "text/plain": [
       "<BarContainer object of 7 artists>"
      ]
     },
     "execution_count": 24,
     "metadata": {},
     "output_type": "execute_result"
    },
    {
     "data": {
      "image/png": "[encoded data removed]",
      "text/plain": [
       "<Figure size 640x480 with 1 Axes>"
      ]
     },
     "metadata": {},
     "output_type": "display_data"
    }
   ],
   "source": [
    "#matplotlib is used for plotting bar charts in python\n",
    "import matplotlib.pyplot as plt\n",
    "#import numpy as np\n",
    "#import matplotlib as mpl\n",
    "plt.bar (number, frequency) #plot a bar chart of the 2 variables num, freq"
   ]
  },
  {
   "cell_type": "code",
   "execution_count": null,
   "metadata": {},
   "outputs": [],
   "source": [
    "#generating random numbers with numpy\n",
    "rng = np.random.default_rng()"
   ]
  },
  {
   "cell_type": "code",
   "execution_count": null,
   "metadata": {},
   "outputs": [
    {
     "data": {
      "text/plain": [
       "0.1695659218761103"
      ]
     },
     "execution_count": 26,
     "metadata": {},
     "output_type": "execute_result"
    }
   ],
   "source": [
    "# Generate one random float uniformly distributed over the range [0, 1)\n",
    "rng.random()  \n"
   ]
  },
  {
   "cell_type": "code",
   "execution_count": null,
   "metadata": {},
   "outputs": [
    {
     "data": {
      "text/plain": [
       "array([-0.72751635, -0.75330471, -0.77289158,  0.0717547 ,  0.960522  ,\n",
       "        1.2816503 , -0.19313829, -0.24145012, -1.00474206,  0.25306592])"
      ]
     },
     "execution_count": 27,
     "metadata": {},
     "output_type": "execute_result"
    }
   ],
   "source": [
    "# Generate an array of 10 numbers according to a unit Gaussian distribution.\n",
    "rng.standard_normal(10)  "
   ]
  },
  {
   "cell_type": "code",
   "execution_count": null,
   "metadata": {},
   "outputs": [
    {
     "data": {
      "text/plain": [
       "array([2, 1, 4, 5, 9], dtype=int64)"
      ]
     },
     "execution_count": 28,
     "metadata": {},
     "output_type": "execute_result"
    }
   ],
   "source": [
    "# Generate an array of 5 integers uniformly over the range [0, 10).\n",
    "rng.integers(low=0, high=10, size=5)"
   ]
  },
  {
   "cell_type": "code",
   "execution_count": null,
   "metadata": {},
   "outputs": [],
   "source": []
  },
  {
   "cell_type": "markdown",
   "metadata": {},
   "source": [
    "***\n",
    "## End"
   ]
  }
 ],
 "metadata": {
  "kernelspec": {
   "display_name": "base",
   "language": "python",
   "name": "python3"
  },
  "language_info": {
   "codemirror_mode": {
    "name": "ipython",
    "version": 3
   },
   "file_extension": ".py",
   "mimetype": "text/x-python",
   "name": "python",
   "nbconvert_exporter": "python",
   "pygments_lexer": "ipython3",
   "version": "3.11.5"
  }
 },
 "nbformat": 4,
 "nbformat_minor": 2
}
